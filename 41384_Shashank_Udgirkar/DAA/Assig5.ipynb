{
 "cells": [
  {
   "cell_type": "code",
   "execution_count": 2,
   "id": "a8f11f04",
   "metadata": {},
   "outputs": [
    {
     "name": "stdout",
     "output_type": "stream",
     "text": [
      "Enter 0 for fixed, 1 for randomized pivot : 0\n",
      "Unsorted Array\n",
      "[1, 7, 4, 1, 10, 9, -2]\n",
      "Sorted Array in Ascending Order:\n",
      "[-2, 1, 1, 4, 7, 9, 10]\n"
     ]
    }
   ],
   "source": [
    "import random\n",
    "\n",
    "\n",
    "def partition(array, low, high, piv):\n",
    "    pivot = array[high]\n",
    "    i = low - 1\n",
    "    for j in range(low, high):\n",
    "        if array[j] <= pivot:\n",
    "            i = i + 1\n",
    "            (array[i], array[j]) = (array[j], array[i])\n",
    "    (array[i + 1], array[high]) = (array[high], array[i + 1])\n",
    "    return i + 1\n",
    "\n",
    "\n",
    "def quickSort(array, low, high):\n",
    "\tif low < high:\n",
    "\t\tif randomized:\n",
    "\t\t\tpiv = random.randrange(low, high)\n",
    "\t\telse:\n",
    "\t\t\tpiv = high\n",
    "\t\tpi = partition(array, low, high, piv)\n",
    "\t\tquickSort(array, low, pi - 1)\n",
    "\t\tquickSort(array, pi + 1, high)\n",
    "\n",
    "\n",
    "randomized = bool(int(input(\"Enter 0 for fixed, 1 for randomized pivot : \")))\n",
    "data = [1, 7, 4, 1, 10, 9, -2]\n",
    "print(\"Unsorted Array\")\n",
    "print(data)\n",
    "size = len(data)\n",
    "randomized = True\n",
    "quickSort(data, 0, size - 1)\n",
    "print(\"Sorted Array in Ascending Order:\")\n",
    "print(data)\n"
   ]
  },
  {
   "cell_type": "code",
   "execution_count": null,
   "id": "12a2a022",
   "metadata": {},
   "outputs": [],
   "source": []
  }
 ],
 "metadata": {
  "kernelspec": {
   "display_name": "Python 3 (ipykernel)",
   "language": "python",
   "name": "python3"
  },
  "language_info": {
   "codemirror_mode": {
    "name": "ipython",
    "version": 3
   },
   "file_extension": ".py",
   "mimetype": "text/x-python",
   "name": "python",
   "nbconvert_exporter": "python",
   "pygments_lexer": "ipython3",
   "version": "3.9.7"
  }
 },
 "nbformat": 4,
 "nbformat_minor": 5
}
