{
 "cells": [
  {
   "cell_type": "code",
   "execution_count": 23,
   "id": "b26f6e04",
   "metadata": {
    "id": "cPA2kLRzNuiE"
   },
   "outputs": [],
   "source": [
    "import pandas as pd\n",
    "import numpy as np\n",
    "import seaborn as sns \n",
    "import matplotlib.pyplot as plt\n",
    "\n",
    "import pylab\n",
    "import math\n",
    "\n",
    "from sklearn.model_selection import train_test_split\n",
    "from sklearn import metrics \n",
    "from sklearn.ensemble import RandomForestRegressor\n",
    "from sklearn import metrics\n",
    "from sklearn import preprocessing\n",
    "from sklearn.model_selection import GridSearchCV"
   ]
  },
  {
   "cell_type": "code",
   "execution_count": 24,
   "id": "a139e073",
   "metadata": {
    "colab": {
     "base_uri": "https://localhost:8080/",
     "height": 374
    },
    "id": "8GbrJ0PMNuiG",
    "outputId": "273694a0-c127-4c03-ac1b-7043bd0f3995"
   },
   "outputs": [
    {
     "data": {
      "text/html": [
       "<div>\n",
       "<style scoped>\n",
       "    .dataframe tbody tr th:only-of-type {\n",
       "        vertical-align: middle;\n",
       "    }\n",
       "\n",
       "    .dataframe tbody tr th {\n",
       "        vertical-align: top;\n",
       "    }\n",
       "\n",
       "    .dataframe thead th {\n",
       "        text-align: right;\n",
       "    }\n",
       "</style>\n",
       "<table border=\"1\" class=\"dataframe\">\n",
       "  <thead>\n",
       "    <tr style=\"text-align: right;\">\n",
       "      <th></th>\n",
       "      <th>Unnamed: 0</th>\n",
       "      <th>key</th>\n",
       "      <th>fare_amount</th>\n",
       "      <th>pickup_datetime</th>\n",
       "      <th>pickup_longitude</th>\n",
       "      <th>pickup_latitude</th>\n",
       "      <th>dropoff_longitude</th>\n",
       "      <th>dropoff_latitude</th>\n",
       "      <th>passenger_count</th>\n",
       "    </tr>\n",
       "  </thead>\n",
       "  <tbody>\n",
       "    <tr>\n",
       "      <th>0</th>\n",
       "      <td>24238194</td>\n",
       "      <td>2015-05-07 19:52:06.0000003</td>\n",
       "      <td>7.5</td>\n",
       "      <td>2015-05-07 19:52:06 UTC</td>\n",
       "      <td>-73.999817</td>\n",
       "      <td>40.738354</td>\n",
       "      <td>-73.999512</td>\n",
       "      <td>40.723217</td>\n",
       "      <td>1</td>\n",
       "    </tr>\n",
       "    <tr>\n",
       "      <th>1</th>\n",
       "      <td>27835199</td>\n",
       "      <td>2009-07-17 20:04:56.0000002</td>\n",
       "      <td>7.7</td>\n",
       "      <td>2009-07-17 20:04:56 UTC</td>\n",
       "      <td>-73.994355</td>\n",
       "      <td>40.728225</td>\n",
       "      <td>-73.994710</td>\n",
       "      <td>40.750325</td>\n",
       "      <td>1</td>\n",
       "    </tr>\n",
       "    <tr>\n",
       "      <th>2</th>\n",
       "      <td>44984355</td>\n",
       "      <td>2009-08-24 21:45:00.00000061</td>\n",
       "      <td>12.9</td>\n",
       "      <td>2009-08-24 21:45:00 UTC</td>\n",
       "      <td>-74.005043</td>\n",
       "      <td>40.740770</td>\n",
       "      <td>-73.962565</td>\n",
       "      <td>40.772647</td>\n",
       "      <td>1</td>\n",
       "    </tr>\n",
       "    <tr>\n",
       "      <th>3</th>\n",
       "      <td>25894730</td>\n",
       "      <td>2009-06-26 08:22:21.0000001</td>\n",
       "      <td>5.3</td>\n",
       "      <td>2009-06-26 08:22:21 UTC</td>\n",
       "      <td>-73.976124</td>\n",
       "      <td>40.790844</td>\n",
       "      <td>-73.965316</td>\n",
       "      <td>40.803349</td>\n",
       "      <td>3</td>\n",
       "    </tr>\n",
       "    <tr>\n",
       "      <th>4</th>\n",
       "      <td>17610152</td>\n",
       "      <td>2014-08-28 17:47:00.000000188</td>\n",
       "      <td>16.0</td>\n",
       "      <td>2014-08-28 17:47:00 UTC</td>\n",
       "      <td>-73.925023</td>\n",
       "      <td>40.744085</td>\n",
       "      <td>-73.973082</td>\n",
       "      <td>40.761247</td>\n",
       "      <td>5</td>\n",
       "    </tr>\n",
       "  </tbody>\n",
       "</table>\n",
       "</div>"
      ],
      "text/plain": [
       "   Unnamed: 0                            key  fare_amount  \\\n",
       "0    24238194    2015-05-07 19:52:06.0000003          7.5   \n",
       "1    27835199    2009-07-17 20:04:56.0000002          7.7   \n",
       "2    44984355   2009-08-24 21:45:00.00000061         12.9   \n",
       "3    25894730    2009-06-26 08:22:21.0000001          5.3   \n",
       "4    17610152  2014-08-28 17:47:00.000000188         16.0   \n",
       "\n",
       "           pickup_datetime  pickup_longitude  pickup_latitude  \\\n",
       "0  2015-05-07 19:52:06 UTC        -73.999817        40.738354   \n",
       "1  2009-07-17 20:04:56 UTC        -73.994355        40.728225   \n",
       "2  2009-08-24 21:45:00 UTC        -74.005043        40.740770   \n",
       "3  2009-06-26 08:22:21 UTC        -73.976124        40.790844   \n",
       "4  2014-08-28 17:47:00 UTC        -73.925023        40.744085   \n",
       "\n",
       "   dropoff_longitude  dropoff_latitude  passenger_count  \n",
       "0         -73.999512         40.723217                1  \n",
       "1         -73.994710         40.750325                1  \n",
       "2         -73.962565         40.772647                1  \n",
       "3         -73.965316         40.803349                3  \n",
       "4         -73.973082         40.761247                5  "
      ]
     },
     "execution_count": 24,
     "metadata": {},
     "output_type": "execute_result"
    }
   ],
   "source": [
    "#import the dataset\n",
    "df = pd.read_csv(\"uber.csv\")\n",
    "df.head()"
   ]
  },
  {
   "cell_type": "code",
   "execution_count": 25,
   "id": "ae8226c8",
   "metadata": {
    "colab": {
     "base_uri": "https://localhost:8080/"
    },
    "id": "nmOEKqzxNuiH",
    "outputId": "fc3a9223-e31a-447c-c2e9-a4474f122ecd"
   },
   "outputs": [
    {
     "name": "stdout",
     "output_type": "stream",
     "text": [
      "<class 'pandas.core.frame.DataFrame'>\n",
      "RangeIndex: 200000 entries, 0 to 199999\n",
      "Data columns (total 9 columns):\n",
      " #   Column             Non-Null Count   Dtype  \n",
      "---  ------             --------------   -----  \n",
      " 0   Unnamed: 0         200000 non-null  int64  \n",
      " 1   key                200000 non-null  object \n",
      " 2   fare_amount        200000 non-null  float64\n",
      " 3   pickup_datetime    200000 non-null  object \n",
      " 4   pickup_longitude   200000 non-null  float64\n",
      " 5   pickup_latitude    200000 non-null  float64\n",
      " 6   dropoff_longitude  199999 non-null  float64\n",
      " 7   dropoff_latitude   199999 non-null  float64\n",
      " 8   passenger_count    200000 non-null  int64  \n",
      "dtypes: float64(5), int64(2), object(2)\n",
      "memory usage: 12.2+ MB\n"
     ]
    }
   ],
   "source": [
    "df.info()"
   ]
  },
  {
   "cell_type": "code",
   "execution_count": 26,
   "id": "3b944e28",
   "metadata": {
    "colab": {
     "base_uri": "https://localhost:8080/",
     "height": 364
    },
    "id": "80FpoInbNuiI",
    "outputId": "a5167bb6-b8b8-40a4-c943-2f65142d2fd7"
   },
   "outputs": [
    {
     "data": {
      "text/html": [
       "<div>\n",
       "<style scoped>\n",
       "    .dataframe tbody tr th:only-of-type {\n",
       "        vertical-align: middle;\n",
       "    }\n",
       "\n",
       "    .dataframe tbody tr th {\n",
       "        vertical-align: top;\n",
       "    }\n",
       "\n",
       "    .dataframe thead th {\n",
       "        text-align: right;\n",
       "    }\n",
       "</style>\n",
       "<table border=\"1\" class=\"dataframe\">\n",
       "  <thead>\n",
       "    <tr style=\"text-align: right;\">\n",
       "      <th></th>\n",
       "      <th>Unnamed: 0</th>\n",
       "      <th>fare_amount</th>\n",
       "      <th>pickup_longitude</th>\n",
       "      <th>pickup_latitude</th>\n",
       "      <th>dropoff_longitude</th>\n",
       "      <th>dropoff_latitude</th>\n",
       "      <th>passenger_count</th>\n",
       "    </tr>\n",
       "  </thead>\n",
       "  <tbody>\n",
       "    <tr>\n",
       "      <th>count</th>\n",
       "      <td>2.000000e+05</td>\n",
       "      <td>200000.000000</td>\n",
       "      <td>200000.000000</td>\n",
       "      <td>200000.000000</td>\n",
       "      <td>199999.000000</td>\n",
       "      <td>199999.000000</td>\n",
       "      <td>200000.000000</td>\n",
       "    </tr>\n",
       "    <tr>\n",
       "      <th>mean</th>\n",
       "      <td>2.771250e+07</td>\n",
       "      <td>11.359955</td>\n",
       "      <td>-72.527638</td>\n",
       "      <td>39.935885</td>\n",
       "      <td>-72.525292</td>\n",
       "      <td>39.923890</td>\n",
       "      <td>1.684535</td>\n",
       "    </tr>\n",
       "    <tr>\n",
       "      <th>std</th>\n",
       "      <td>1.601382e+07</td>\n",
       "      <td>9.901776</td>\n",
       "      <td>11.437787</td>\n",
       "      <td>7.720539</td>\n",
       "      <td>13.117408</td>\n",
       "      <td>6.794829</td>\n",
       "      <td>1.385997</td>\n",
       "    </tr>\n",
       "    <tr>\n",
       "      <th>min</th>\n",
       "      <td>1.000000e+00</td>\n",
       "      <td>-52.000000</td>\n",
       "      <td>-1340.648410</td>\n",
       "      <td>-74.015515</td>\n",
       "      <td>-3356.666300</td>\n",
       "      <td>-881.985513</td>\n",
       "      <td>0.000000</td>\n",
       "    </tr>\n",
       "    <tr>\n",
       "      <th>25%</th>\n",
       "      <td>1.382535e+07</td>\n",
       "      <td>6.000000</td>\n",
       "      <td>-73.992065</td>\n",
       "      <td>40.734796</td>\n",
       "      <td>-73.991407</td>\n",
       "      <td>40.733823</td>\n",
       "      <td>1.000000</td>\n",
       "    </tr>\n",
       "    <tr>\n",
       "      <th>50%</th>\n",
       "      <td>2.774550e+07</td>\n",
       "      <td>8.500000</td>\n",
       "      <td>-73.981823</td>\n",
       "      <td>40.752592</td>\n",
       "      <td>-73.980093</td>\n",
       "      <td>40.753042</td>\n",
       "      <td>1.000000</td>\n",
       "    </tr>\n",
       "    <tr>\n",
       "      <th>75%</th>\n",
       "      <td>4.155530e+07</td>\n",
       "      <td>12.500000</td>\n",
       "      <td>-73.967154</td>\n",
       "      <td>40.767158</td>\n",
       "      <td>-73.963658</td>\n",
       "      <td>40.768001</td>\n",
       "      <td>2.000000</td>\n",
       "    </tr>\n",
       "    <tr>\n",
       "      <th>max</th>\n",
       "      <td>5.542357e+07</td>\n",
       "      <td>499.000000</td>\n",
       "      <td>57.418457</td>\n",
       "      <td>1644.421482</td>\n",
       "      <td>1153.572603</td>\n",
       "      <td>872.697628</td>\n",
       "      <td>208.000000</td>\n",
       "    </tr>\n",
       "  </tbody>\n",
       "</table>\n",
       "</div>"
      ],
      "text/plain": [
       "         Unnamed: 0    fare_amount  pickup_longitude  pickup_latitude  \\\n",
       "count  2.000000e+05  200000.000000     200000.000000    200000.000000   \n",
       "mean   2.771250e+07      11.359955        -72.527638        39.935885   \n",
       "std    1.601382e+07       9.901776         11.437787         7.720539   \n",
       "min    1.000000e+00     -52.000000      -1340.648410       -74.015515   \n",
       "25%    1.382535e+07       6.000000        -73.992065        40.734796   \n",
       "50%    2.774550e+07       8.500000        -73.981823        40.752592   \n",
       "75%    4.155530e+07      12.500000        -73.967154        40.767158   \n",
       "max    5.542357e+07     499.000000         57.418457      1644.421482   \n",
       "\n",
       "       dropoff_longitude  dropoff_latitude  passenger_count  \n",
       "count      199999.000000     199999.000000    200000.000000  \n",
       "mean          -72.525292         39.923890         1.684535  \n",
       "std            13.117408          6.794829         1.385997  \n",
       "min         -3356.666300       -881.985513         0.000000  \n",
       "25%           -73.991407         40.733823         1.000000  \n",
       "50%           -73.980093         40.753042         1.000000  \n",
       "75%           -73.963658         40.768001         2.000000  \n",
       "max          1153.572603        872.697628       208.000000  "
      ]
     },
     "execution_count": 26,
     "metadata": {},
     "output_type": "execute_result"
    }
   ],
   "source": [
    "df.describe()"
   ]
  },
  {
   "cell_type": "code",
   "execution_count": 27,
   "id": "5e95552d",
   "metadata": {
    "colab": {
     "base_uri": "https://localhost:8080/",
     "height": 357
    },
    "id": "GUEFk9GYNuiJ",
    "outputId": "2c943747-95c9-46f6-b811-ed4c3a5605ae"
   },
   "outputs": [
    {
     "data": {
      "text/html": [
       "<div>\n",
       "<style scoped>\n",
       "    .dataframe tbody tr th:only-of-type {\n",
       "        vertical-align: middle;\n",
       "    }\n",
       "\n",
       "    .dataframe tbody tr th {\n",
       "        vertical-align: top;\n",
       "    }\n",
       "\n",
       "    .dataframe thead th {\n",
       "        text-align: right;\n",
       "    }\n",
       "</style>\n",
       "<table border=\"1\" class=\"dataframe\">\n",
       "  <thead>\n",
       "    <tr style=\"text-align: right;\">\n",
       "      <th></th>\n",
       "      <th>fare_amount</th>\n",
       "      <th>pickup_datetime</th>\n",
       "      <th>pickup_longitude</th>\n",
       "      <th>pickup_latitude</th>\n",
       "      <th>dropoff_longitude</th>\n",
       "      <th>dropoff_latitude</th>\n",
       "      <th>passenger_count</th>\n",
       "    </tr>\n",
       "  </thead>\n",
       "  <tbody>\n",
       "    <tr>\n",
       "      <th>0</th>\n",
       "      <td>7.5</td>\n",
       "      <td>2015-05-07 19:52:06 UTC</td>\n",
       "      <td>-73.999817</td>\n",
       "      <td>40.738354</td>\n",
       "      <td>-73.999512</td>\n",
       "      <td>40.723217</td>\n",
       "      <td>1</td>\n",
       "    </tr>\n",
       "    <tr>\n",
       "      <th>1</th>\n",
       "      <td>7.7</td>\n",
       "      <td>2009-07-17 20:04:56 UTC</td>\n",
       "      <td>-73.994355</td>\n",
       "      <td>40.728225</td>\n",
       "      <td>-73.994710</td>\n",
       "      <td>40.750325</td>\n",
       "      <td>1</td>\n",
       "    </tr>\n",
       "    <tr>\n",
       "      <th>2</th>\n",
       "      <td>12.9</td>\n",
       "      <td>2009-08-24 21:45:00 UTC</td>\n",
       "      <td>-74.005043</td>\n",
       "      <td>40.740770</td>\n",
       "      <td>-73.962565</td>\n",
       "      <td>40.772647</td>\n",
       "      <td>1</td>\n",
       "    </tr>\n",
       "    <tr>\n",
       "      <th>3</th>\n",
       "      <td>5.3</td>\n",
       "      <td>2009-06-26 08:22:21 UTC</td>\n",
       "      <td>-73.976124</td>\n",
       "      <td>40.790844</td>\n",
       "      <td>-73.965316</td>\n",
       "      <td>40.803349</td>\n",
       "      <td>3</td>\n",
       "    </tr>\n",
       "    <tr>\n",
       "      <th>4</th>\n",
       "      <td>16.0</td>\n",
       "      <td>2014-08-28 17:47:00 UTC</td>\n",
       "      <td>-73.925023</td>\n",
       "      <td>40.744085</td>\n",
       "      <td>-73.973082</td>\n",
       "      <td>40.761247</td>\n",
       "      <td>5</td>\n",
       "    </tr>\n",
       "  </tbody>\n",
       "</table>\n",
       "</div>"
      ],
      "text/plain": [
       "   fare_amount          pickup_datetime  pickup_longitude  pickup_latitude  \\\n",
       "0          7.5  2015-05-07 19:52:06 UTC        -73.999817        40.738354   \n",
       "1          7.7  2009-07-17 20:04:56 UTC        -73.994355        40.728225   \n",
       "2         12.9  2009-08-24 21:45:00 UTC        -74.005043        40.740770   \n",
       "3          5.3  2009-06-26 08:22:21 UTC        -73.976124        40.790844   \n",
       "4         16.0  2014-08-28 17:47:00 UTC        -73.925023        40.744085   \n",
       "\n",
       "   dropoff_longitude  dropoff_latitude  passenger_count  \n",
       "0         -73.999512         40.723217                1  \n",
       "1         -73.994710         40.750325                1  \n",
       "2         -73.962565         40.772647                1  \n",
       "3         -73.965316         40.803349                3  \n",
       "4         -73.973082         40.761247                5  "
      ]
     },
     "execution_count": 27,
     "metadata": {},
     "output_type": "execute_result"
    }
   ],
   "source": [
    "df = df.drop(['Unnamed: 0','key'], axis = 1)\n",
    "df.head()"
   ]
  },
  {
   "cell_type": "code",
   "execution_count": 28,
   "id": "c3c77f5b",
   "metadata": {
    "colab": {
     "base_uri": "https://localhost:8080/"
    },
    "id": "BqEvLURPNuiK",
    "outputId": "7722087d-56f4-4cd0-b66f-ef92ce2b01b4"
   },
   "outputs": [
    {
     "data": {
      "text/plain": [
       "fare_amount          0\n",
       "pickup_datetime      0\n",
       "pickup_longitude     0\n",
       "pickup_latitude      0\n",
       "dropoff_longitude    1\n",
       "dropoff_latitude     1\n",
       "passenger_count      0\n",
       "dtype: int64"
      ]
     },
     "execution_count": 28,
     "metadata": {},
     "output_type": "execute_result"
    }
   ],
   "source": [
    "df.isnull().sum()"
   ]
  },
  {
   "cell_type": "code",
   "execution_count": 29,
   "id": "719d09a7",
   "metadata": {
    "colab": {
     "base_uri": "https://localhost:8080/"
    },
    "id": "olLz9TzFOKON",
    "outputId": "583b0cfd-dfcd-4dce-ac55-d24127034f47"
   },
   "outputs": [
    {
     "data": {
      "text/plain": [
       "fare_amount          0\n",
       "pickup_datetime      0\n",
       "pickup_longitude     0\n",
       "pickup_latitude      0\n",
       "dropoff_longitude    0\n",
       "dropoff_latitude     0\n",
       "passenger_count      0\n",
       "dtype: int64"
      ]
     },
     "execution_count": 29,
     "metadata": {},
     "output_type": "execute_result"
    }
   ],
   "source": [
    "df['dropoff_latitude'].fillna(value=df['dropoff_latitude'].mean(),inplace=True)\n",
    "df['dropoff_longitude'].fillna(value=df['dropoff_longitude'].median(),inplace=True)\n",
    "df.isnull().sum()"
   ]
  },
  {
   "cell_type": "code",
   "execution_count": 30,
   "id": "aef0494d",
   "metadata": {
    "colab": {
     "base_uri": "https://localhost:8080/"
    },
    "id": "CNP4fs9WNuiL",
    "outputId": "c5b6227d-db8a-46f2-f528-cb3651ab4525"
   },
   "outputs": [
    {
     "data": {
      "text/plain": [
       "fare_amount          float64\n",
       "pickup_datetime       object\n",
       "pickup_longitude     float64\n",
       "pickup_latitude      float64\n",
       "dropoff_longitude    float64\n",
       "dropoff_latitude     float64\n",
       "passenger_count        int64\n",
       "dtype: object"
      ]
     },
     "execution_count": 30,
     "metadata": {},
     "output_type": "execute_result"
    }
   ],
   "source": [
    "df.dtypes"
   ]
  },
  {
   "cell_type": "code",
   "execution_count": 31,
   "id": "66f6840e",
   "metadata": {
    "colab": {
     "base_uri": "https://localhost:8080/"
    },
    "id": "rw8COq13OGnq",
    "outputId": "947208e1-eb45-415e-876f-3813c0d31088"
   },
   "outputs": [
    {
     "data": {
      "text/plain": [
       "fare_amount                      float64\n",
       "pickup_datetime      datetime64[ns, UTC]\n",
       "pickup_longitude                 float64\n",
       "pickup_latitude                  float64\n",
       "dropoff_longitude                float64\n",
       "dropoff_latitude                 float64\n",
       "passenger_count                    int64\n",
       "dtype: object"
      ]
     },
     "execution_count": 31,
     "metadata": {},
     "output_type": "execute_result"
    }
   ],
   "source": [
    "df.pickup_datetime = pd.to_datetime(df.pickup_datetime, errors='coerce')\n",
    "df.dtypes"
   ]
  },
  {
   "cell_type": "code",
   "execution_count": 32,
   "id": "03bc418b",
   "metadata": {
    "colab": {
     "base_uri": "https://localhost:8080/",
     "height": 357
    },
    "id": "Xhso9v5BNuiM",
    "outputId": "b7a615c2-972d-4051-b5f5-7bb2458a84f2"
   },
   "outputs": [
    {
     "data": {
      "text/html": [
       "<div>\n",
       "<style scoped>\n",
       "    .dataframe tbody tr th:only-of-type {\n",
       "        vertical-align: middle;\n",
       "    }\n",
       "\n",
       "    .dataframe tbody tr th {\n",
       "        vertical-align: top;\n",
       "    }\n",
       "\n",
       "    .dataframe thead th {\n",
       "        text-align: right;\n",
       "    }\n",
       "</style>\n",
       "<table border=\"1\" class=\"dataframe\">\n",
       "  <thead>\n",
       "    <tr style=\"text-align: right;\">\n",
       "      <th></th>\n",
       "      <th>fare_amount</th>\n",
       "      <th>pickup_datetime</th>\n",
       "      <th>pickup_longitude</th>\n",
       "      <th>pickup_latitude</th>\n",
       "      <th>dropoff_longitude</th>\n",
       "      <th>dropoff_latitude</th>\n",
       "      <th>passenger_count</th>\n",
       "      <th>hour</th>\n",
       "      <th>day</th>\n",
       "      <th>month</th>\n",
       "      <th>year</th>\n",
       "      <th>dayofweek</th>\n",
       "    </tr>\n",
       "  </thead>\n",
       "  <tbody>\n",
       "    <tr>\n",
       "      <th>0</th>\n",
       "      <td>7.5</td>\n",
       "      <td>2015-05-07 19:52:06+00:00</td>\n",
       "      <td>-73.999817</td>\n",
       "      <td>40.738354</td>\n",
       "      <td>-73.999512</td>\n",
       "      <td>40.723217</td>\n",
       "      <td>1</td>\n",
       "      <td>19</td>\n",
       "      <td>7</td>\n",
       "      <td>5</td>\n",
       "      <td>2015</td>\n",
       "      <td>3</td>\n",
       "    </tr>\n",
       "    <tr>\n",
       "      <th>1</th>\n",
       "      <td>7.7</td>\n",
       "      <td>2009-07-17 20:04:56+00:00</td>\n",
       "      <td>-73.994355</td>\n",
       "      <td>40.728225</td>\n",
       "      <td>-73.994710</td>\n",
       "      <td>40.750325</td>\n",
       "      <td>1</td>\n",
       "      <td>20</td>\n",
       "      <td>17</td>\n",
       "      <td>7</td>\n",
       "      <td>2009</td>\n",
       "      <td>4</td>\n",
       "    </tr>\n",
       "    <tr>\n",
       "      <th>2</th>\n",
       "      <td>12.9</td>\n",
       "      <td>2009-08-24 21:45:00+00:00</td>\n",
       "      <td>-74.005043</td>\n",
       "      <td>40.740770</td>\n",
       "      <td>-73.962565</td>\n",
       "      <td>40.772647</td>\n",
       "      <td>1</td>\n",
       "      <td>21</td>\n",
       "      <td>24</td>\n",
       "      <td>8</td>\n",
       "      <td>2009</td>\n",
       "      <td>0</td>\n",
       "    </tr>\n",
       "    <tr>\n",
       "      <th>3</th>\n",
       "      <td>5.3</td>\n",
       "      <td>2009-06-26 08:22:21+00:00</td>\n",
       "      <td>-73.976124</td>\n",
       "      <td>40.790844</td>\n",
       "      <td>-73.965316</td>\n",
       "      <td>40.803349</td>\n",
       "      <td>3</td>\n",
       "      <td>8</td>\n",
       "      <td>26</td>\n",
       "      <td>6</td>\n",
       "      <td>2009</td>\n",
       "      <td>4</td>\n",
       "    </tr>\n",
       "    <tr>\n",
       "      <th>4</th>\n",
       "      <td>16.0</td>\n",
       "      <td>2014-08-28 17:47:00+00:00</td>\n",
       "      <td>-73.925023</td>\n",
       "      <td>40.744085</td>\n",
       "      <td>-73.973082</td>\n",
       "      <td>40.761247</td>\n",
       "      <td>5</td>\n",
       "      <td>17</td>\n",
       "      <td>28</td>\n",
       "      <td>8</td>\n",
       "      <td>2014</td>\n",
       "      <td>3</td>\n",
       "    </tr>\n",
       "  </tbody>\n",
       "</table>\n",
       "</div>"
      ],
      "text/plain": [
       "   fare_amount           pickup_datetime  pickup_longitude  pickup_latitude  \\\n",
       "0          7.5 2015-05-07 19:52:06+00:00        -73.999817        40.738354   \n",
       "1          7.7 2009-07-17 20:04:56+00:00        -73.994355        40.728225   \n",
       "2         12.9 2009-08-24 21:45:00+00:00        -74.005043        40.740770   \n",
       "3          5.3 2009-06-26 08:22:21+00:00        -73.976124        40.790844   \n",
       "4         16.0 2014-08-28 17:47:00+00:00        -73.925023        40.744085   \n",
       "\n",
       "   dropoff_longitude  dropoff_latitude  passenger_count  hour  day  month  \\\n",
       "0         -73.999512         40.723217                1    19    7      5   \n",
       "1         -73.994710         40.750325                1    20   17      7   \n",
       "2         -73.962565         40.772647                1    21   24      8   \n",
       "3         -73.965316         40.803349                3     8   26      6   \n",
       "4         -73.973082         40.761247                5    17   28      8   \n",
       "\n",
       "   year  dayofweek  \n",
       "0  2015          3  \n",
       "1  2009          4  \n",
       "2  2009          0  \n",
       "3  2009          4  \n",
       "4  2014          3  "
      ]
     },
     "execution_count": 32,
     "metadata": {},
     "output_type": "execute_result"
    }
   ],
   "source": [
    "df = df.assign( hour = df.pickup_datetime.dt.hour,\n",
    "                day = df.pickup_datetime.dt.day,\n",
    "                month = df.pickup_datetime.dt.month,\n",
    "                year = df.pickup_datetime.dt.year,\n",
    "                dayofweek = df.pickup_datetime.dt.dayofweek\n",
    "              )\n",
    "df.head()"
   ]
  },
  {
   "cell_type": "code",
   "execution_count": 33,
   "id": "c8991ca0",
   "metadata": {
    "colab": {
     "base_uri": "https://localhost:8080/"
    },
    "id": "x7RLNzYsNuiN",
    "outputId": "55e7eba3-dd65-4dc8-d12f-0f239a87232b"
   },
   "outputs": [
    {
     "data": {
      "text/plain": [
       "fare_amount          float64\n",
       "pickup_longitude     float64\n",
       "pickup_latitude      float64\n",
       "dropoff_longitude    float64\n",
       "dropoff_latitude     float64\n",
       "passenger_count        int64\n",
       "hour                   int64\n",
       "day                    int64\n",
       "month                  int64\n",
       "year                   int64\n",
       "dayofweek              int64\n",
       "dtype: object"
      ]
     },
     "execution_count": 33,
     "metadata": {},
     "output_type": "execute_result"
    }
   ],
   "source": [
    "# drop the column 'pickup_datetime' using drop()\n",
    "# 'axis=1' drops the specified column\n",
    "df = df.drop('pickup_datetime', axis=1)\n",
    "df.dtypes"
   ]
  },
  {
   "cell_type": "code",
   "execution_count": 34,
   "id": "90fb6aac",
   "metadata": {
    "colab": {
     "base_uri": "https://localhost:8080/",
     "height": 1000
    },
    "id": "AKqFxgxWNuiO",
    "outputId": "11b45ba5-0340-4c22-da3b-f84e7cfc9fb8",
    "scrolled": false
   },
   "outputs": [
    {
     "data": {
      "text/plain": [
       "fare_amount             AxesSubplot(0.125,0.787927;0.352273x0.0920732)\n",
       "pickup_longitude     AxesSubplot(0.547727,0.787927;0.352273x0.0920732)\n",
       "pickup_latitude         AxesSubplot(0.125,0.677439;0.352273x0.0920732)\n",
       "dropoff_longitude    AxesSubplot(0.547727,0.677439;0.352273x0.0920732)\n",
       "dropoff_latitude        AxesSubplot(0.125,0.566951;0.352273x0.0920732)\n",
       "passenger_count      AxesSubplot(0.547727,0.566951;0.352273x0.0920732)\n",
       "hour                    AxesSubplot(0.125,0.456463;0.352273x0.0920732)\n",
       "day                  AxesSubplot(0.547727,0.456463;0.352273x0.0920732)\n",
       "month                   AxesSubplot(0.125,0.345976;0.352273x0.0920732)\n",
       "year                 AxesSubplot(0.547727,0.345976;0.352273x0.0920732)\n",
       "dayofweek               AxesSubplot(0.125,0.235488;0.352273x0.0920732)\n",
       "dtype: object"
      ]
     },
     "execution_count": 34,
     "metadata": {},
     "output_type": "execute_result"
    },
    {
     "data": {
      "image/png": "[encoded data removed]",
      "text/plain": [
       "<Figure size 1080x1440 with 14 Axes>"
      ]
     },
     "metadata": {
      "needs_background": "light"
     },
     "output_type": "display_data"
    },
    {
     "data": {
      "image/png": "[encoded data removed]",
      "text/plain": [
       "<Figure size 1080x1440 with 14 Axes>"
      ]
     },
     "metadata": {
      "needs_background": "light"
     },
     "output_type": "display_data"
    }
   ],
   "source": [
    "df.plot(kind=\"box\",subplots=True,layout=(7,2),figsize=(15,20))\n",
    "\n",
    "#Box plot to check the outliers using the Inter Quartile Range to fill the values\n",
    "def remove_outlier(df1,col):\n",
    "    Q1 = df1[col].quantile(0.25)\n",
    "    Q3 = df1[col].quantile(0.75)\n",
    "    IQR = Q3-Q1\n",
    "    lower_whisker = Q1-1.5*IQR\n",
    "    upper_whisker = Q3+1.5*IQR\n",
    "    df[col] = np.clip(df1[col],lower_whisker,upper_whisker)\n",
    "    return df1\n",
    "\n",
    "def treat_outliers_all(df1,col_list):\n",
    "    for c in col_list:\n",
    "        df1 = remove_outlier(df,c)\n",
    "        return df1\n",
    "\n",
    "df = treat_outliers_all(df,df.iloc[:,0::])\n",
    "\n",
    "#Box plot shows that dataset is free from outliers\n",
    "df.plot(kind=\"box\", subplots=True, layout=(7,2), figsize=(15,20))    "
   ]
  },
  {
   "cell_type": "code",
   "execution_count": 35,
   "id": "77cef835",
   "metadata": {
    "colab": {
     "base_uri": "https://localhost:8080/"
    },
    "id": "a3oV5lKkNuiP",
    "outputId": "98ecc28b-4ca9-40c2-a05a-f9a72fae3882"
   },
   "outputs": [
    {
     "name": "stdout",
     "output_type": "stream",
     "text": [
      "<class 'pandas.core.frame.DataFrame'>\n",
      "RangeIndex: 200000 entries, 0 to 199999\n",
      "Data columns (total 11 columns):\n",
      " #   Column             Non-Null Count   Dtype  \n",
      "---  ------             --------------   -----  \n",
      " 0   fare_amount        200000 non-null  float64\n",
      " 1   pickup_longitude   200000 non-null  float64\n",
      " 2   pickup_latitude    200000 non-null  float64\n",
      " 3   dropoff_longitude  200000 non-null  float64\n",
      " 4   dropoff_latitude   200000 non-null  float64\n",
      " 5   passenger_count    200000 non-null  int64  \n",
      " 6   hour               200000 non-null  int64  \n",
      " 7   day                200000 non-null  int64  \n",
      " 8   month              200000 non-null  int64  \n",
      " 9   year               200000 non-null  int64  \n",
      " 10  dayofweek          200000 non-null  int64  \n",
      "dtypes: float64(5), int64(6)\n",
      "memory usage: 16.8 MB\n"
     ]
    }
   ],
   "source": [
    "df.info()"
   ]
  },
  {
   "cell_type": "code",
   "execution_count": 36,
   "id": "87f285b6",
   "metadata": {
    "colab": {
     "base_uri": "https://localhost:8080/"
    },
    "id": "2AVZibyFNuiS",
    "outputId": "bb8bed7a-36a1-41ae-bbfe-5205c90590d3"
   },
   "outputs": [
    {
     "name": "stdout",
     "output_type": "stream",
     "text": [
      "<class 'pandas.core.frame.DataFrame'>\n",
      "RangeIndex: 199988 entries, 0 to 199987\n",
      "Data columns (total 12 columns):\n",
      " #   Column             Non-Null Count   Dtype  \n",
      "---  ------             --------------   -----  \n",
      " 0   index              199988 non-null  int64  \n",
      " 1   fare_amount        199988 non-null  float64\n",
      " 2   pickup_longitude   199988 non-null  float64\n",
      " 3   pickup_latitude    199988 non-null  float64\n",
      " 4   dropoff_longitude  199988 non-null  float64\n",
      " 5   dropoff_latitude   199988 non-null  float64\n",
      " 6   passenger_count    199988 non-null  int64  \n",
      " 7   hour               199988 non-null  int64  \n",
      " 8   day                199988 non-null  int64  \n",
      " 9   month              199988 non-null  int64  \n",
      " 10  year               199988 non-null  int64  \n",
      " 11  dayofweek          199988 non-null  int64  \n",
      "dtypes: float64(5), int64(7)\n",
      "memory usage: 18.3 MB\n"
     ]
    }
   ],
   "source": [
    "# Finding incorrect latitude (less than or greater than 90) and longitude(greater than or less than 180)\n",
    "incorrect_coordinates = df[(df[\"pickup_latitude\"]>90) | (df[\"pickup_latitude\"]<-90) | (df[\"dropoff_latitude\"]>90) | (df[\"dropoff_latitude\"]<-90) | \n",
    "                           (df[\"pickup_longitude\"]>180) | (df[\"pickup_longitude\"]<-180) | (df[\"dropoff_longitude\"]>180) | (df[\"dropoff_longitude\"]<-180)].index\n",
    "df = df.drop(incorrect_coordinates)\n",
    "df.reset_index(inplace=True)\n",
    "df.info()"
   ]
  },
  {
   "cell_type": "code",
   "execution_count": 37,
   "id": "e7f7ea1e",
   "metadata": {
    "colab": {
     "base_uri": "https://localhost:8080/",
     "height": 206
    },
    "id": "3PO0nvIONuiT",
    "outputId": "0b31cf3a-b8a3-46e9-cab8-262e935b908d"
   },
   "outputs": [
    {
     "data": {
      "text/html": [
       "<div>\n",
       "<style scoped>\n",
       "    .dataframe tbody tr th:only-of-type {\n",
       "        vertical-align: middle;\n",
       "    }\n",
       "\n",
       "    .dataframe tbody tr th {\n",
       "        vertical-align: top;\n",
       "    }\n",
       "\n",
       "    .dataframe thead th {\n",
       "        text-align: right;\n",
       "    }\n",
       "</style>\n",
       "<table border=\"1\" class=\"dataframe\">\n",
       "  <thead>\n",
       "    <tr style=\"text-align: right;\">\n",
       "      <th></th>\n",
       "      <th>0</th>\n",
       "    </tr>\n",
       "  </thead>\n",
       "  <tbody>\n",
       "    <tr>\n",
       "      <th>0</th>\n",
       "      <td>1.683325</td>\n",
       "    </tr>\n",
       "    <tr>\n",
       "      <th>1</th>\n",
       "      <td>2.457593</td>\n",
       "    </tr>\n",
       "    <tr>\n",
       "      <th>2</th>\n",
       "      <td>5.036384</td>\n",
       "    </tr>\n",
       "    <tr>\n",
       "      <th>3</th>\n",
       "      <td>1.661686</td>\n",
       "    </tr>\n",
       "    <tr>\n",
       "      <th>4</th>\n",
       "      <td>4.475456</td>\n",
       "    </tr>\n",
       "  </tbody>\n",
       "</table>\n",
       "</div>"
      ],
      "text/plain": [
       "          0\n",
       "0  1.683325\n",
       "1  2.457593\n",
       "2  5.036384\n",
       "3  1.661686\n",
       "4  4.475456"
      ]
     },
     "execution_count": 37,
     "metadata": {},
     "output_type": "execute_result"
    }
   ],
   "source": [
    "# pip install haversine\n",
    "import haversine as hs\n",
    "\n",
    "# Calculate the distance using Haversine to calculate the distance between two points. \n",
    "# Can't use Eucladian as it is for flat surface.\n",
    "travel_dist = []\n",
    "for pos in range(len(df['pickup_longitude'])):\n",
    "    long1, lati1, long2, lati2 = [df['pickup_longitude'][pos], df['pickup_latitude'][pos],\n",
    "                                  df['dropoff_longitude'][pos], df['dropoff_latitude'][pos]]\n",
    "    loc1 = (lati1, long1)\n",
    "    loc2 = (lati2, long2)\n",
    "    \n",
    "    c = hs.haversine(loc1, loc2)\n",
    "    travel_dist.append(c)\n",
    "\n",
    "travel_dist_df = pd.DataFrame(travel_dist)\n",
    "travel_dist_df.head()"
   ]
  },
  {
   "cell_type": "code",
   "execution_count": 38,
   "id": "759bf2b0",
   "metadata": {
    "colab": {
     "base_uri": "https://localhost:8080/",
     "height": 491
    },
    "id": "TWIC9Kl4NuiU",
    "outputId": "b38ceee1-24e4-4f2e-fd72-08839ea7dc19"
   },
   "outputs": [
    {
     "name": "stdout",
     "output_type": "stream",
     "text": [
      "Remaining observastions in the dataset : (199988, 13)\n"
     ]
    },
    {
     "data": {
      "text/plain": [
       "<AxesSubplot:>"
      ]
     },
     "execution_count": 38,
     "metadata": {},
     "output_type": "execute_result"
    },
    {
     "data": {
      "image/png": "[encoded data removed]",
      "text/plain": [
       "<Figure size 720x432 with 2 Axes>"
      ]
     },
     "metadata": {
      "needs_background": "light"
     },
     "output_type": "display_data"
    }
   ],
   "source": [
    "df['dist_travel_km'] = travel_dist_df\n",
    "\n",
    "#Uber doesn't travel over 130kms so minimize the distance\n",
    "df = df.loc[(df.dist_travel_km>=1)|(df.dist_travel_km<=130)]\n",
    "print(\"Remaining observastions in the dataset :\", df.shape)\n",
    "\n",
    "fig, axis = plt.subplots(figsize=(10,6))\n",
    "sns.heatmap(df.corr(), annot=True)\n",
    "#CorrelationHeatmap(Lightvaluesmeanshighlycorrelated)"
   ]
  },
  {
   "cell_type": "code",
   "execution_count": 39,
   "id": "6ac09990",
   "metadata": {
    "id": "oCB58g4YNuiU"
   },
   "outputs": [],
   "source": [
    "X = df[['pickup_longitude','pickup_latitude','dropoff_longitude','dropoff_latitude','passenger_count','hour','day','month','year','dayofweek']]\n",
    "y = df['fare_amount']"
   ]
  },
  {
   "cell_type": "code",
   "execution_count": 40,
   "id": "9ff4ba4a",
   "metadata": {
    "id": "apqD0Bj9NuiV"
   },
   "outputs": [],
   "source": [
    "from sklearn.model_selection import train_test_split\n",
    "X_train, X_test, y_train, y_test= train_test_split(X, y, test_size=0.33)"
   ]
  },
  {
   "cell_type": "code",
   "execution_count": 41,
   "id": "46842365",
   "metadata": {
    "colab": {
     "base_uri": "https://localhost:8080/"
    },
    "id": "5fdvsCM-NuiV",
    "outputId": "43896774-02fe-4d42-e30d-2e850baa7f22"
   },
   "outputs": [
    {
     "name": "stdout",
     "output_type": "stream",
     "text": [
      "Intercept : -866.6253349861091\n",
      "\n",
      "Linear Coefficients : [ 0.02049759  0.01717453 -0.02072598 -0.01788141  0.04647255 -0.02127874\n",
      "  0.00320289  0.07717918  0.43557968  0.04157174]\n",
      "\n",
      "[11.09232584  8.64220586  9.32662772 ... 10.13806634 11.10658495\n",
      " 10.06148981]\n"
     ]
    },
    {
     "data": {
      "text/plain": [
       "173135    22.25\n",
       "188974     7.30\n",
       "131762    14.10\n",
       "41288     22.25\n",
       "113290     7.70\n",
       "          ...  \n",
       "12019      5.30\n",
       "43582     10.10\n",
       "89377      8.90\n",
       "183127    11.00\n",
       "192345     6.10\n",
       "Name: fare_amount, Length: 65997, dtype: float64"
      ]
     },
     "execution_count": 41,
     "metadata": {},
     "output_type": "execute_result"
    }
   ],
   "source": [
    "from sklearn.linear_model import LinearRegression\n",
    "\n",
    "lin_reg = LinearRegression()\n",
    "lin_reg.fit(X_train, y_train)\n",
    "\n",
    "print(\"Intercept :\", lin_reg.intercept_)             #To find the linear intercept\n",
    "print(\"\\nLinear Coefficients :\", lin_reg.coef_)      #To find the linear coeeficient\n",
    "\n",
    "print()\n",
    "prediction = lin_reg.predict(X_test)                 #To predict the target values\n",
    "print(prediction)\n",
    "y_test"
   ]
  },
  {
   "cell_type": "code",
   "execution_count": 42,
   "id": "7e20e522",
   "metadata": {
    "colab": {
     "base_uri": "https://localhost:8080/"
    },
    "id": "r2GXR95kNuiV",
    "outputId": "b3ab8495-4f06-4bda-bbed-a9cad6e232aa"
   },
   "outputs": [
    {
     "name": "stdout",
     "output_type": "stream",
     "text": [
      "R2 Score : 0.02153169388629772\n",
      "RMSE : 5.365112106299092\n"
     ]
    }
   ],
   "source": [
    "from sklearn.metrics import r2_score\n",
    "print(\"R2 Score :\", r2_score(y_test, prediction))\n",
    "\n",
    "from sklearn.metrics import mean_squared_error\n",
    "MSE = mean_squared_error(y_test,prediction)\n",
    "RMSE = np.sqrt(MSE)\n",
    "print(\"RMSE :\", RMSE)"
   ]
  },
  {
   "cell_type": "code",
   "execution_count": 43,
   "id": "17963ce0",
   "metadata": {
    "colab": {
     "base_uri": "https://localhost:8080/"
    },
    "id": "ruHHLtIfNuiW",
    "outputId": "12e22d9d-7d96-4b46-8bfd-e3971252ca02"
   },
   "outputs": [
    {
     "data": {
      "text/plain": [
       "array([22.25  ,  7.66  , 12.758 , ..., 10.4   , 10.9445,  6.626 ])"
      ]
     },
     "execution_count": 43,
     "metadata": {},
     "output_type": "execute_result"
    }
   ],
   "source": [
    "from sklearn.ensemble import RandomForestRegressor\n",
    "\n",
    "rf = RandomForestRegressor(n_estimators=100) \n",
    "# Here, n_estimators means number of trees you want to build before making the prediction\n",
    "rf.fit(X_train, y_train)\n",
    "y_pred = rf.predict(X_test)\n",
    "y_pred"
   ]
  },
  {
   "cell_type": "code",
   "execution_count": 44,
   "id": "871ceeb1",
   "metadata": {
    "colab": {
     "base_uri": "https://localhost:8080/"
    },
    "id": "Tj9oqDMxNuiX",
    "outputId": "be288c6d-4029-4b27-97fc-5a4901773d84"
   },
   "outputs": [
    {
     "name": "stdout",
     "output_type": "stream",
     "text": [
      "R2 Score : 0.8103458952348048\n",
      "RMSE : 2.362036166826693\n"
     ]
    }
   ],
   "source": [
    "R2_Random = r2_score(y_test,y_pred)\n",
    "print(\"R2 Score :\", R2_Random)\n",
    "\n",
    "MSE_Random = mean_squared_error(y_test,y_pred)\n",
    "RMSE_Random = np.sqrt(MSE_Random)\n",
    "print(\"RMSE :\", RMSE_Random)"
   ]
  },
  {
   "cell_type": "code",
   "execution_count": null,
   "id": "d7cc3591",
   "metadata": {
    "id": "tdwolBQRRoPf"
   },
   "outputs": [],
   "source": []
  }
 ],
 "metadata": {
  "colab": {
   "provenance": []
  },
  "kernelspec": {
   "display_name": "Python 3",
   "language": "python",
   "name": "python3"
  },
  "language_info": {
   "codemirror_mode": {
    "name": "ipython",
    "version": 3
   },
   "file_extension": ".py",
   "mimetype": "text/x-python",
   "name": "python",
   "nbconvert_exporter": "python",
   "pygments_lexer": "ipython3",
   "version": "3.8.3"
  },
  "vscode": {
   "interpreter": {
    "hash": "5daa561236fae254e88b6e2723343a38f10f1653cce7d4f5246865ed144ea0ab"
   }
  }
 },
 "nbformat": 4,
 "nbformat_minor": 5
}
